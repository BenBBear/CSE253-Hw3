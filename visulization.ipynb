{
 "cells": [
  {
   "cell_type": "code",
   "execution_count": 6,
   "metadata": {
    "collapsed": false,
    "scrolled": true
   },
   "outputs": [],
   "source": [
    "% matplotlib inline\n",
    "import sys\n",
    "#sys.path.append('/home/ubuntu/caffe/python/')\n",
    "import caffe\n",
    "from caffe import layers as L, params as P, to_proto\n",
    "from caffe.proto import caffe_pb2\n",
    "import numpy as np\n",
    "import matplotlib as plt"
   ]
  },
  {
   "cell_type": "code",
   "execution_count": 7,
   "metadata": {
    "collapsed": false
   },
   "outputs": [
    {
     "data": {
      "text/plain": [
       "<caffe.proto.caffe_pb2.NetParameter at 0x7f59d6a72758>"
      ]
     },
     "execution_count": 7,
     "metadata": {},
     "output_type": "execute_result"
    }
   ],
   "source": [
    "def conv_relu(bottom, ks, nout, stride=1, pad=0, group=1):\n",
    "    conv = L.Convolution(bottom, kernel_size=ks, stride=stride,\n",
    "                                num_output=nout, pad=pad, group=group)\n",
    "    return conv, L.ReLU(conv, in_place=True)\n",
    "\n",
    "def fc_relu(bottom, nout):\n",
    "    fc = L.InnerProduct(bottom, num_output=nout)\n",
    "    return fc, L.ReLU(fc, in_place=True)\n",
    "\n",
    "def max_pool(bottom, ks, stride=1):\n",
    "    return L.Pooling(bottom, pool=P.Pooling.MAX, kernel_size=ks, stride=stride)\n",
    "\n",
    "def caffenet(lmdb, batch_size=256, include_acc=False):\n",
    "    data, label = L.Data(source=lmdb, backend=P.Data.LMDB, batch_size=batch_size, ntop=2,\n",
    "        transform_param=dict(crop_size=227, mean_value=[104, 117, 123], mirror=True))\n",
    "\n",
    "    # the net itself\n",
    "    conv1, relu1 = conv_relu(data, 11, 96, stride=4)\n",
    "    pool1 = max_pool(relu1, 3, stride=2)\n",
    "    norm1 = L.LRN(pool1, local_size=5, alpha=1e-4, beta=0.75)\n",
    "    conv2, relu2 = conv_relu(norm1, 5, 256, pad=2, group=2)\n",
    "    pool2 = max_pool(relu2, 3, stride=2)\n",
    "    norm2 = L.LRN(pool2, local_size=5, alpha=1e-4, beta=0.75)\n",
    "    conv3, relu3 = conv_relu(norm2, 3, 384, pad=1)\n",
    "    conv4, relu4 = conv_relu(relu3, 3, 384, pad=1, group=2)\n",
    "    conv5, relu5 = conv_relu(relu4, 3, 256, pad=1, group=2)\n",
    "    pool5 = max_pool(relu5, 3, stride=2)\n",
    "    fc6, relu6 = fc_relu(pool5, 4096)\n",
    "    drop6 = L.Dropout(relu6, in_place=True)\n",
    "    fc7, relu7 = fc_relu(drop6, 4096)\n",
    "    drop7 = L.Dropout(relu7, in_place=True)\n",
    "    fc8 = L.InnerProduct(drop7, num_output=1000)\n",
    "    loss = L.SoftmaxWithLoss(fc8, label)\n",
    "\n",
    "    if include_acc:\n",
    "        acc = L.Accuracy(fc8, label)\n",
    "        return to_proto(loss, acc)\n",
    "    else:\n",
    "        return to_proto(loss)\n",
    "    \n",
    "caffenet('data/cifar100-dtrain')"
   ]
  },
  {
   "cell_type": "code",
   "execution_count": 8,
   "metadata": {
    "collapsed": false
   },
   "outputs": [],
   "source": [
    "caffe.set_device(0)\n",
    "caffe.set_mode_gpu()\n"
   ]
  },
  {
   "cell_type": "code",
   "execution_count": 9,
   "metadata": {
    "collapsed": false
   },
   "outputs": [
    {
     "name": "stdout",
     "output_type": "stream",
     "text": [
      "/home/ubuntu/hw3\r\n"
     ]
    }
   ],
   "source": [
    "!pwd"
   ]
  },
  {
   "cell_type": "code",
   "execution_count": 10,
   "metadata": {
    "collapsed": true
   },
   "outputs": [],
   "source": [
    "solver = caffe.SGDSolver('q3/solver.prototxt')"
   ]
  },
  {
   "cell_type": "code",
   "execution_count": 11,
   "metadata": {
    "collapsed": false
   },
   "outputs": [
    {
     "data": {
      "text/plain": [
       "[('data', (100, 3, 32, 32)),\n",
       " ('label', (100,)),\n",
       " ('label_cifar_1_split_0', (100,)),\n",
       " ('label_cifar_1_split_1', (100,)),\n",
       " ('conv1', (100, 64, 30, 30)),\n",
       " ('relu1', (100, 64, 30, 30)),\n",
       " ('pool1', (100, 64, 30, 30)),\n",
       " ('conv2', (100, 32, 30, 30)),\n",
       " ('relu2', (100, 32, 30, 30)),\n",
       " ('pool2', (100, 32, 30, 30)),\n",
       " ('drop2', (100, 32, 30, 30)),\n",
       " ('conv3', (100, 16, 31, 31)),\n",
       " ('relu3', (100, 16, 31, 31)),\n",
       " ('pool3', (100, 16, 31, 31)),\n",
       " ('drop3', (100, 16, 31, 31)),\n",
       " ('fc1', (100, 768)),\n",
       " ('fc2', (100, 100)),\n",
       " ('fc2_fc2_0_split_0', (100, 100)),\n",
       " ('fc2_fc2_0_split_1', (100, 100)),\n",
       " ('accuracy', ()),\n",
       " ('loss', ())]"
      ]
     },
     "execution_count": 11,
     "metadata": {},
     "output_type": "execute_result"
    }
   ],
   "source": [
    "[(k, v.data.shape) for k, v in solver.net.blobs.items()]"
   ]
  },
  {
   "cell_type": "code",
   "execution_count": 12,
   "metadata": {
    "collapsed": false
   },
   "outputs": [
    {
     "data": {
      "text/plain": [
       "{'accuracy': array(0.009999999776482582, dtype=float32),\n",
       " 'loss': array(4.61062479019165, dtype=float32)}"
      ]
     },
     "execution_count": 12,
     "metadata": {},
     "output_type": "execute_result"
    }
   ],
   "source": [
    "\n",
    "solver.net.forward()  # train net\n",
    "solver.test_nets[0].forward()  # test net (there can be more than one)"
   ]
  },
  {
   "cell_type": "code",
   "execution_count": null,
   "metadata": {
    "collapsed": false
   },
   "outputs": [
    {
     "name": "stdout",
     "output_type": "stream",
     "text": [
      "Iteration 0 testing...\n",
      "Iteration"
     ]
    }
   ],
   "source": [
    "%%time\n",
    "niter = 30000\n",
    "test_interval = 1000\n",
    "# losses will also be stored in the log\n",
    "train_loss = np.zeros(niter)\n",
    "test_acc = np.zeros(int(np.ceil(niter / test_interval)))\n",
    "output = np.zeros((niter, 8, 10))\n",
    "\n",
    "# the main solver loop\n",
    "for it in range(niter):\n",
    "    solver.step(1)  # SGD by Caffe\n",
    "    \n",
    "    # store the train loss\n",
    "    train_loss[it] = solver.net.blobs['loss'].data\n",
    "    \n",
    "    # store the output on the first test batch\n",
    "    # (start the forward pass at conv1 to avoid loading new data)\n",
    "    solver.test_nets[0].forward(start='conv1')\n",
    "    #output[it] = solver.test_nets[0].blobs['ip2'].data[:8]\n",
    "    \n",
    "    # run a full test every so often\n",
    "    # (Caffe can also do this for us and write to a log, but we show here\n",
    "    #  how to do it directly in Python, where more complicated things are easier.)\n",
    "    if it % test_interval == 0:\n",
    "        print 'Iteration', it, 'testing...'\n",
    "        correct = 0\n",
    "        for test_it in range(100):\n",
    "            solver.test_nets[0].forward()\n",
    "            correct += sum(solver.test_nets[0].blobs['fc2'].data.argmax(1)\n",
    "                           == solver.test_nets[0].blobs['label'].data)\n",
    "        test_acc[it / test_interval] = correct / 1e4"
   ]
  },
  {
   "cell_type": "code",
   "execution_count": 14,
   "metadata": {
    "collapsed": false
   },
   "outputs": [
    {
     "data": {
      "text/plain": [
       "<matplotlib.text.Text at 0x7f59f2a6ff50>"
      ]
     },
     "execution_count": 14,
     "metadata": {},
     "output_type": "execute_result"
    },
    {
     "data": {
      "image/png": "[encoded data removed]",
      "text/plain": [
       "<matplotlib.figure.Figure at 0x7f59d6aa5750>"
      ]
     },
     "metadata": {},
     "output_type": "display_data"
    }
   ],
   "source": [
    "_, ax1 = plt.pyplot.subplots()\n",
    "ax2 = ax1.twinx()\n",
    "ax1.plot(np.arange(niter), train_loss)\n",
    "ax2.plot(test_interval * np.arange(len(test_acc)), test_acc, 'r')\n",
    "ax1.set_xlabel('iteration')\n",
    "ax1.set_ylabel('train loss')\n",
    "ax2.set_ylabel('test accuracy')"
   ]
  },
  {
   "cell_type": "code",
   "execution_count": 46,
   "metadata": {
    "collapsed": false
   },
   "outputs": [
    {
     "data": {
      "text/plain": [
       "array([ 4.60517931,  4.60546017,  4.60468102, ...,  4.6051569 ,\n",
       "        4.60521221,  4.60518932])"
      ]
     },
     "execution_count": 46,
     "metadata": {},
     "output_type": "execute_result"
    }
   ],
   "source": [
    "train_loss"
   ]
  },
  {
   "cell_type": "code",
   "execution_count": 48,
   "metadata": {
    "collapsed": false
   },
   "outputs": [
    {
     "data": {
      "text/plain": [
       "array(4.605189323425293, dtype=float32)"
      ]
     },
     "execution_count": 48,
     "metadata": {},
     "output_type": "execute_result"
    }
   ],
   "source": []
  },
  {
   "cell_type": "code",
   "execution_count": null,
   "metadata": {
    "collapsed": true
   },
   "outputs": [],
   "source": []
  }
 ],
 "metadata": {
  "kernelspec": {
   "display_name": "Python 2",
   "language": "python",
   "name": "python2"
  },
  "language_info": {
   "codemirror_mode": {
    "name": "ipython",
    "version": 2
   },
   "file_extension": ".py",
   "mimetype": "text/x-python",
   "name": "python",
   "nbconvert_exporter": "python",
   "pygments_lexer": "ipython2",
   "version": "2.7.6"
  }
 },
 "nbformat": 4,
 "nbformat_minor": 0
}
